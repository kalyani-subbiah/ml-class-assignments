{
 "cells": [
  {
   "cell_type": "markdown",
   "metadata": {},
   "source": [
    "## Part 2: Classification on red and white wine characteristics\n",
    "#### First, import the red and the white wine csv files into separate pandas dataframes from the following website:\n",
    "https://archive.ics.uci.edu/ml/machine-learning-databases/wine-quality/\n",
    " \n",
    "#### Links to an external site.\n",
    "#### (Note: you need to adjust the argument for read_csv() from sep=',' to sep=';')\n",
    "#### Add a new column to each data frame called \"winetype\".  For the white wine dataset label the values in this column with a 0, indicating white wine.  For the red wine dataset, label values with a 1, indicating red wine.  Combine both datasets into a single dataframe.\n",
    "#### The target data (i.e. the dependent variable) is \"winetype\".\n"
   ]
  },
  {
   "cell_type": "code",
   "execution_count": 2,
   "metadata": {},
   "outputs": [],
   "source": [
    "import pandas as pd\n",
    "import numpy as np\n",
    "white = pd.read_csv(\"data/winequality-white.csv\", sep=';')\n",
    "red = pd.read_csv(\"data/winequality-red.csv\", sep=';')\n"
   ]
  },
  {
   "cell_type": "code",
   "execution_count": 3,
   "metadata": {},
   "outputs": [
    {
     "data": {
      "text/html": [
       "<div>\n",
       "<style scoped>\n",
       "    .dataframe tbody tr th:only-of-type {\n",
       "        vertical-align: middle;\n",
       "    }\n",
       "\n",
       "    .dataframe tbody tr th {\n",
       "        vertical-align: top;\n",
       "    }\n",
       "\n",
       "    .dataframe thead th {\n",
       "        text-align: right;\n",
       "    }\n",
       "</style>\n",
       "<table border=\"1\" class=\"dataframe\">\n",
       "  <thead>\n",
       "    <tr style=\"text-align: right;\">\n",
       "      <th></th>\n",
       "      <th>fixed acidity</th>\n",
       "      <th>volatile acidity</th>\n",
       "      <th>citric acid</th>\n",
       "      <th>residual sugar</th>\n",
       "      <th>chlorides</th>\n",
       "      <th>free sulfur dioxide</th>\n",
       "      <th>total sulfur dioxide</th>\n",
       "      <th>density</th>\n",
       "      <th>pH</th>\n",
       "      <th>sulphates</th>\n",
       "      <th>alcohol</th>\n",
       "      <th>quality</th>\n",
       "      <th>winetype</th>\n",
       "    </tr>\n",
       "  </thead>\n",
       "  <tbody>\n",
       "    <tr>\n",
       "      <th>0</th>\n",
       "      <td>7.0</td>\n",
       "      <td>0.27</td>\n",
       "      <td>0.36</td>\n",
       "      <td>20.7</td>\n",
       "      <td>0.045</td>\n",
       "      <td>45.0</td>\n",
       "      <td>170.0</td>\n",
       "      <td>1.0010</td>\n",
       "      <td>3.00</td>\n",
       "      <td>0.45</td>\n",
       "      <td>8.8</td>\n",
       "      <td>6</td>\n",
       "      <td>0</td>\n",
       "    </tr>\n",
       "    <tr>\n",
       "      <th>1</th>\n",
       "      <td>6.3</td>\n",
       "      <td>0.30</td>\n",
       "      <td>0.34</td>\n",
       "      <td>1.6</td>\n",
       "      <td>0.049</td>\n",
       "      <td>14.0</td>\n",
       "      <td>132.0</td>\n",
       "      <td>0.9940</td>\n",
       "      <td>3.30</td>\n",
       "      <td>0.49</td>\n",
       "      <td>9.5</td>\n",
       "      <td>6</td>\n",
       "      <td>0</td>\n",
       "    </tr>\n",
       "    <tr>\n",
       "      <th>2</th>\n",
       "      <td>8.1</td>\n",
       "      <td>0.28</td>\n",
       "      <td>0.40</td>\n",
       "      <td>6.9</td>\n",
       "      <td>0.050</td>\n",
       "      <td>30.0</td>\n",
       "      <td>97.0</td>\n",
       "      <td>0.9951</td>\n",
       "      <td>3.26</td>\n",
       "      <td>0.44</td>\n",
       "      <td>10.1</td>\n",
       "      <td>6</td>\n",
       "      <td>0</td>\n",
       "    </tr>\n",
       "    <tr>\n",
       "      <th>3</th>\n",
       "      <td>7.2</td>\n",
       "      <td>0.23</td>\n",
       "      <td>0.32</td>\n",
       "      <td>8.5</td>\n",
       "      <td>0.058</td>\n",
       "      <td>47.0</td>\n",
       "      <td>186.0</td>\n",
       "      <td>0.9956</td>\n",
       "      <td>3.19</td>\n",
       "      <td>0.40</td>\n",
       "      <td>9.9</td>\n",
       "      <td>6</td>\n",
       "      <td>0</td>\n",
       "    </tr>\n",
       "    <tr>\n",
       "      <th>4</th>\n",
       "      <td>7.2</td>\n",
       "      <td>0.23</td>\n",
       "      <td>0.32</td>\n",
       "      <td>8.5</td>\n",
       "      <td>0.058</td>\n",
       "      <td>47.0</td>\n",
       "      <td>186.0</td>\n",
       "      <td>0.9956</td>\n",
       "      <td>3.19</td>\n",
       "      <td>0.40</td>\n",
       "      <td>9.9</td>\n",
       "      <td>6</td>\n",
       "      <td>0</td>\n",
       "    </tr>\n",
       "  </tbody>\n",
       "</table>\n",
       "</div>"
      ],
      "text/plain": [
       "   fixed acidity  volatile acidity  citric acid  residual sugar  chlorides  \\\n",
       "0            7.0              0.27         0.36            20.7      0.045   \n",
       "1            6.3              0.30         0.34             1.6      0.049   \n",
       "2            8.1              0.28         0.40             6.9      0.050   \n",
       "3            7.2              0.23         0.32             8.5      0.058   \n",
       "4            7.2              0.23         0.32             8.5      0.058   \n",
       "\n",
       "   free sulfur dioxide  total sulfur dioxide  density    pH  sulphates  \\\n",
       "0                 45.0                 170.0   1.0010  3.00       0.45   \n",
       "1                 14.0                 132.0   0.9940  3.30       0.49   \n",
       "2                 30.0                  97.0   0.9951  3.26       0.44   \n",
       "3                 47.0                 186.0   0.9956  3.19       0.40   \n",
       "4                 47.0                 186.0   0.9956  3.19       0.40   \n",
       "\n",
       "   alcohol  quality  winetype  \n",
       "0      8.8        6         0  \n",
       "1      9.5        6         0  \n",
       "2     10.1        6         0  \n",
       "3      9.9        6         0  \n",
       "4      9.9        6         0  "
      ]
     },
     "execution_count": 3,
     "metadata": {},
     "output_type": "execute_result"
    }
   ],
   "source": [
    "## Create winetype column\n",
    "\n",
    "white['winetype'] = 0\n",
    "red['winetype'] = 1\n",
    "white.head()\n"
   ]
  },
  {
   "cell_type": "code",
   "execution_count": 4,
   "metadata": {},
   "outputs": [],
   "source": [
    "## Join dataframes\n",
    "frames = [white, red]\n",
    "wine = pd.concat(frames)"
   ]
  },
  {
   "cell_type": "code",
   "execution_count": 5,
   "metadata": {},
   "outputs": [
    {
     "data": {
      "text/html": [
       "<div>\n",
       "<style scoped>\n",
       "    .dataframe tbody tr th:only-of-type {\n",
       "        vertical-align: middle;\n",
       "    }\n",
       "\n",
       "    .dataframe tbody tr th {\n",
       "        vertical-align: top;\n",
       "    }\n",
       "\n",
       "    .dataframe thead th {\n",
       "        text-align: right;\n",
       "    }\n",
       "</style>\n",
       "<table border=\"1\" class=\"dataframe\">\n",
       "  <thead>\n",
       "    <tr style=\"text-align: right;\">\n",
       "      <th></th>\n",
       "      <th>fixed acidity</th>\n",
       "      <th>volatile acidity</th>\n",
       "      <th>citric acid</th>\n",
       "      <th>residual sugar</th>\n",
       "      <th>chlorides</th>\n",
       "      <th>free sulfur dioxide</th>\n",
       "      <th>total sulfur dioxide</th>\n",
       "      <th>density</th>\n",
       "      <th>pH</th>\n",
       "      <th>sulphates</th>\n",
       "      <th>alcohol</th>\n",
       "      <th>quality</th>\n",
       "      <th>winetype</th>\n",
       "    </tr>\n",
       "  </thead>\n",
       "  <tbody>\n",
       "    <tr>\n",
       "      <th>0</th>\n",
       "      <td>7.0</td>\n",
       "      <td>0.27</td>\n",
       "      <td>0.36</td>\n",
       "      <td>20.7</td>\n",
       "      <td>0.045</td>\n",
       "      <td>45.0</td>\n",
       "      <td>170.0</td>\n",
       "      <td>1.0010</td>\n",
       "      <td>3.00</td>\n",
       "      <td>0.45</td>\n",
       "      <td>8.8</td>\n",
       "      <td>6</td>\n",
       "      <td>0</td>\n",
       "    </tr>\n",
       "    <tr>\n",
       "      <th>1</th>\n",
       "      <td>6.3</td>\n",
       "      <td>0.30</td>\n",
       "      <td>0.34</td>\n",
       "      <td>1.6</td>\n",
       "      <td>0.049</td>\n",
       "      <td>14.0</td>\n",
       "      <td>132.0</td>\n",
       "      <td>0.9940</td>\n",
       "      <td>3.30</td>\n",
       "      <td>0.49</td>\n",
       "      <td>9.5</td>\n",
       "      <td>6</td>\n",
       "      <td>0</td>\n",
       "    </tr>\n",
       "    <tr>\n",
       "      <th>2</th>\n",
       "      <td>8.1</td>\n",
       "      <td>0.28</td>\n",
       "      <td>0.40</td>\n",
       "      <td>6.9</td>\n",
       "      <td>0.050</td>\n",
       "      <td>30.0</td>\n",
       "      <td>97.0</td>\n",
       "      <td>0.9951</td>\n",
       "      <td>3.26</td>\n",
       "      <td>0.44</td>\n",
       "      <td>10.1</td>\n",
       "      <td>6</td>\n",
       "      <td>0</td>\n",
       "    </tr>\n",
       "    <tr>\n",
       "      <th>3</th>\n",
       "      <td>7.2</td>\n",
       "      <td>0.23</td>\n",
       "      <td>0.32</td>\n",
       "      <td>8.5</td>\n",
       "      <td>0.058</td>\n",
       "      <td>47.0</td>\n",
       "      <td>186.0</td>\n",
       "      <td>0.9956</td>\n",
       "      <td>3.19</td>\n",
       "      <td>0.40</td>\n",
       "      <td>9.9</td>\n",
       "      <td>6</td>\n",
       "      <td>0</td>\n",
       "    </tr>\n",
       "    <tr>\n",
       "      <th>4</th>\n",
       "      <td>7.2</td>\n",
       "      <td>0.23</td>\n",
       "      <td>0.32</td>\n",
       "      <td>8.5</td>\n",
       "      <td>0.058</td>\n",
       "      <td>47.0</td>\n",
       "      <td>186.0</td>\n",
       "      <td>0.9956</td>\n",
       "      <td>3.19</td>\n",
       "      <td>0.40</td>\n",
       "      <td>9.9</td>\n",
       "      <td>6</td>\n",
       "      <td>0</td>\n",
       "    </tr>\n",
       "  </tbody>\n",
       "</table>\n",
       "</div>"
      ],
      "text/plain": [
       "   fixed acidity  volatile acidity  citric acid  residual sugar  chlorides  \\\n",
       "0            7.0              0.27         0.36            20.7      0.045   \n",
       "1            6.3              0.30         0.34             1.6      0.049   \n",
       "2            8.1              0.28         0.40             6.9      0.050   \n",
       "3            7.2              0.23         0.32             8.5      0.058   \n",
       "4            7.2              0.23         0.32             8.5      0.058   \n",
       "\n",
       "   free sulfur dioxide  total sulfur dioxide  density    pH  sulphates  \\\n",
       "0                 45.0                 170.0   1.0010  3.00       0.45   \n",
       "1                 14.0                 132.0   0.9940  3.30       0.49   \n",
       "2                 30.0                  97.0   0.9951  3.26       0.44   \n",
       "3                 47.0                 186.0   0.9956  3.19       0.40   \n",
       "4                 47.0                 186.0   0.9956  3.19       0.40   \n",
       "\n",
       "   alcohol  quality  winetype  \n",
       "0      8.8        6         0  \n",
       "1      9.5        6         0  \n",
       "2     10.1        6         0  \n",
       "3      9.9        6         0  \n",
       "4      9.9        6         0  "
      ]
     },
     "execution_count": 5,
     "metadata": {},
     "output_type": "execute_result"
    }
   ],
   "source": [
    "wine.head()"
   ]
  },
  {
   "cell_type": "code",
   "execution_count": 6,
   "metadata": {
    "scrolled": true
   },
   "outputs": [
    {
     "data": {
      "text/html": [
       "<div>\n",
       "<style scoped>\n",
       "    .dataframe tbody tr th:only-of-type {\n",
       "        vertical-align: middle;\n",
       "    }\n",
       "\n",
       "    .dataframe tbody tr th {\n",
       "        vertical-align: top;\n",
       "    }\n",
       "\n",
       "    .dataframe thead th {\n",
       "        text-align: right;\n",
       "    }\n",
       "</style>\n",
       "<table border=\"1\" class=\"dataframe\">\n",
       "  <thead>\n",
       "    <tr style=\"text-align: right;\">\n",
       "      <th></th>\n",
       "      <th>fixed acidity</th>\n",
       "      <th>volatile acidity</th>\n",
       "      <th>citric acid</th>\n",
       "      <th>residual sugar</th>\n",
       "      <th>chlorides</th>\n",
       "      <th>free sulfur dioxide</th>\n",
       "      <th>total sulfur dioxide</th>\n",
       "      <th>density</th>\n",
       "      <th>pH</th>\n",
       "      <th>sulphates</th>\n",
       "      <th>alcohol</th>\n",
       "      <th>quality</th>\n",
       "      <th>winetype</th>\n",
       "    </tr>\n",
       "  </thead>\n",
       "  <tbody>\n",
       "    <tr>\n",
       "      <th>2624</th>\n",
       "      <td>6.15</td>\n",
       "      <td>0.21</td>\n",
       "      <td>0.37</td>\n",
       "      <td>3.20</td>\n",
       "      <td>0.021</td>\n",
       "      <td>20.0</td>\n",
       "      <td>80.0</td>\n",
       "      <td>0.99076</td>\n",
       "      <td>3.39</td>\n",
       "      <td>0.47</td>\n",
       "      <td>12.0</td>\n",
       "      <td>5</td>\n",
       "      <td>0</td>\n",
       "    </tr>\n",
       "    <tr>\n",
       "      <th>295</th>\n",
       "      <td>10.80</td>\n",
       "      <td>0.50</td>\n",
       "      <td>0.46</td>\n",
       "      <td>2.50</td>\n",
       "      <td>0.073</td>\n",
       "      <td>5.0</td>\n",
       "      <td>27.0</td>\n",
       "      <td>1.00010</td>\n",
       "      <td>3.05</td>\n",
       "      <td>0.64</td>\n",
       "      <td>9.5</td>\n",
       "      <td>5</td>\n",
       "      <td>1</td>\n",
       "    </tr>\n",
       "    <tr>\n",
       "      <th>997</th>\n",
       "      <td>5.60</td>\n",
       "      <td>0.66</td>\n",
       "      <td>0.00</td>\n",
       "      <td>2.20</td>\n",
       "      <td>0.087</td>\n",
       "      <td>3.0</td>\n",
       "      <td>11.0</td>\n",
       "      <td>0.99378</td>\n",
       "      <td>3.71</td>\n",
       "      <td>0.63</td>\n",
       "      <td>12.8</td>\n",
       "      <td>7</td>\n",
       "      <td>1</td>\n",
       "    </tr>\n",
       "    <tr>\n",
       "      <th>3336</th>\n",
       "      <td>6.90</td>\n",
       "      <td>0.38</td>\n",
       "      <td>0.29</td>\n",
       "      <td>13.65</td>\n",
       "      <td>0.048</td>\n",
       "      <td>52.0</td>\n",
       "      <td>189.0</td>\n",
       "      <td>0.99784</td>\n",
       "      <td>3.00</td>\n",
       "      <td>0.60</td>\n",
       "      <td>9.5</td>\n",
       "      <td>6</td>\n",
       "      <td>0</td>\n",
       "    </tr>\n",
       "    <tr>\n",
       "      <th>249</th>\n",
       "      <td>7.30</td>\n",
       "      <td>0.66</td>\n",
       "      <td>0.00</td>\n",
       "      <td>2.00</td>\n",
       "      <td>0.084</td>\n",
       "      <td>6.0</td>\n",
       "      <td>23.0</td>\n",
       "      <td>0.99830</td>\n",
       "      <td>3.61</td>\n",
       "      <td>0.96</td>\n",
       "      <td>9.9</td>\n",
       "      <td>6</td>\n",
       "      <td>1</td>\n",
       "    </tr>\n",
       "  </tbody>\n",
       "</table>\n",
       "</div>"
      ],
      "text/plain": [
       "      fixed acidity  volatile acidity  citric acid  residual sugar  chlorides  \\\n",
       "2624           6.15              0.21         0.37            3.20      0.021   \n",
       "295           10.80              0.50         0.46            2.50      0.073   \n",
       "997            5.60              0.66         0.00            2.20      0.087   \n",
       "3336           6.90              0.38         0.29           13.65      0.048   \n",
       "249            7.30              0.66         0.00            2.00      0.084   \n",
       "\n",
       "      free sulfur dioxide  total sulfur dioxide  density    pH  sulphates  \\\n",
       "2624                 20.0                  80.0  0.99076  3.39       0.47   \n",
       "295                   5.0                  27.0  1.00010  3.05       0.64   \n",
       "997                   3.0                  11.0  0.99378  3.71       0.63   \n",
       "3336                 52.0                 189.0  0.99784  3.00       0.60   \n",
       "249                   6.0                  23.0  0.99830  3.61       0.96   \n",
       "\n",
       "      alcohol  quality winetype  \n",
       "2624     12.0        5        0  \n",
       "295       9.5        5        1  \n",
       "997      12.8        7        1  \n",
       "3336      9.5        6        0  \n",
       "249       9.9        6        1  "
      ]
     },
     "execution_count": 6,
     "metadata": {},
     "output_type": "execute_result"
    }
   ],
   "source": [
    "## Shuffle rows\n",
    "wine = wine.sample(frac=1)\n",
    "wine['winetype'] = wine['winetype'].astype('category')\n",
    "wine.head()"
   ]
  },
  {
   "cell_type": "code",
   "execution_count": 7,
   "metadata": {},
   "outputs": [
    {
     "data": {
      "text/plain": [
       "CategoricalDtype(categories=[0, 1], ordered=False)"
      ]
     },
     "execution_count": 7,
     "metadata": {},
     "output_type": "execute_result"
    }
   ],
   "source": [
    "#Check dtype of winetype variable to make sure it's categorical\n",
    "wine.winetype.dtype"
   ]
  },
  {
   "cell_type": "markdown",
   "metadata": {},
   "source": [
    "### 2.1 Visualize the univariate distribution of the target feature and each of the three explanatory variables that you think are likely to have a relationship with the target feature.   \n",
    "\n",
    "##### Wine Type:"
   ]
  },
  {
   "cell_type": "code",
   "execution_count": 8,
   "metadata": {},
   "outputs": [
    {
     "data": {
      "text/plain": [
       "<Figure size 640x480 with 1 Axes>"
      ]
     },
     "metadata": {},
     "output_type": "display_data"
    }
   ],
   "source": [
    "import matplotlib.pyplot as plt\n",
    "plt.title('Distribution of Wine Type (winetype)', fontsize = 15)\n",
    "plt.xlabel('Wine Type', fontsize = 10)\n",
    "plt.ylabel('Frequency', fontsize = 10)\n",
    "wine['winetype'].value_counts().plot(kind='bar')\n",
    "plt.legend()\n",
    "plt.show()"
   ]
  },
  {
   "cell_type": "markdown",
   "metadata": {},
   "source": [
    "I chose the three explanatory variables: sulphates, volatile acidity and density. I plotted them in box-plots, grouping them by winetype.\n",
    "\n",
    "##### Sulphates:"
   ]
  },
  {
   "cell_type": "code",
   "execution_count": 9,
   "metadata": {},
   "outputs": [
    {
     "data": {
      "image/png": "[encoded data removed]",
      "text/plain": [
       "<Figure size 432x288 with 1 Axes>"
      ]
     },
     "metadata": {},
     "output_type": "display_data"
    }
   ],
   "source": [
    "import matplotlib.pyplot as plt\n",
    "plt.title('Wine Type vs Sulphates', fontsize = 15)\n",
    "plt.xlabel('Wine Type', fontsize = 10)\n",
    "plt.ylabel('Sulphates', fontsize = 10)\n",
    "plt.bar(wine['winetype'], wine['sulphates'])\n",
    "plt.show()"
   ]
  },
  {
   "cell_type": "code",
   "execution_count": 10,
   "metadata": {
    "scrolled": true
   },
   "outputs": [
    {
     "data": {
      "image/png": "[encoded data removed]",
      "text/plain": [
       "<Figure size 432x288 with 1 Axes>"
      ]
     },
     "metadata": {},
     "output_type": "display_data"
    }
   ],
   "source": [
    "sulphates = wine[['sulphates', 'winetype']]\n",
    "sulphates.boxplot(by='winetype')\n",
    "plt.xlabel('Wine Type', fontsize = 10)\n",
    "plt.ylabel('Sulphates', fontsize = 10)\n",
    "plt.show()"
   ]
  },
  {
   "cell_type": "markdown",
   "metadata": {},
   "source": [
    "##### Volatile Acidity:"
   ]
  },
  {
   "cell_type": "code",
   "execution_count": 11,
   "metadata": {
    "scrolled": true
   },
   "outputs": [
    {
     "data": {
      "image/png": "[encoded data removed]",
      "text/plain": [
       "<Figure size 432x288 with 1 Axes>"
      ]
     },
     "metadata": {},
     "output_type": "display_data"
    }
   ],
   "source": [
    "volatile_acidity = wine[['volatile acidity', 'winetype']]\n",
    "volatile_acidity.boxplot(by='winetype')\n",
    "plt.xlabel('Wine Type', fontsize = 10)\n",
    "plt.ylabel('Volatile Acidity', fontsize = 10)\n",
    "plt.show()"
   ]
  },
  {
   "cell_type": "markdown",
   "metadata": {},
   "source": [
    "##### Density:"
   ]
  },
  {
   "cell_type": "code",
   "execution_count": 12,
   "metadata": {
    "scrolled": true
   },
   "outputs": [
    {
     "data": {
      "image/png": "[encoded data removed]",
      "text/plain": [
       "<Figure size 432x288 with 1 Axes>"
      ]
     },
     "metadata": {},
     "output_type": "display_data"
    }
   ],
   "source": [
    "density = wine[['density', 'winetype']]\n",
    "density.boxplot(by='winetype')\n",
    "plt.xlabel('Wine Type', fontsize = 10)\n",
    "plt.ylabel('Density', fontsize = 10)\n",
    "plt.show()"
   ]
  },
  {
   "cell_type": "markdown",
   "metadata": {},
   "source": [
    "### 2.2 Split data into training and test set. Build models that evaluate the relationship between all available X variables in the dataset and the target variable. Evaluate Logistic Regression, Penalized Logistic Regression, and KNN for classification using cross-validation. How different are the results? How does scaling the data with StandardScaler influence the results?\n"
   ]
  },
  {
   "cell_type": "code",
   "execution_count": 13,
   "metadata": {},
   "outputs": [],
   "source": [
    "X = wine.loc[:, wine.columns != 'winetype']\n",
    "wine['winetype'] = wine['winetype'].astype('float64')\n",
    "\n",
    "y = wine['winetype']\n",
    "\n",
    "## Split data into training and testing sets:\n",
    "\n",
    "from sklearn.model_selection import train_test_split\n",
    "X_train, X_test, y_train, y_test = train_test_split(X, y)\n",
    "\n"
   ]
  },
  {
   "cell_type": "markdown",
   "metadata": {},
   "source": [
    "#### Preprocessing\n",
    "\n",
    "I chose to scale the dataset because there is a high degree of variation in the ranges of the different variables. "
   ]
  },
  {
   "cell_type": "code",
   "execution_count": 14,
   "metadata": {},
   "outputs": [
    {
     "data": {
      "text/plain": [
       "3244    0.0\n",
       "3976    0.0\n",
       "135     0.0\n",
       "4226    0.0\n",
       "172     1.0\n",
       "Name: winetype, dtype: category\n",
       "Categories (2, float64): [0.0, 1.0]"
      ]
     },
     "execution_count": 14,
     "metadata": {},
     "output_type": "execute_result"
    }
   ],
   "source": [
    "from sklearn import preprocessing\n",
    "scaler = preprocessing.StandardScaler().fit(X_train)\n",
    "X_train_scaled = pd.DataFrame(preprocessing.scale(X_train), columns=['fixed acidity','volatile acidity','citric acid','residual sugar', 'chlorides', 'free sulfur dioxide', 'total sulfur dioxide', 'density', 'pH', 'sulphates', 'alcohol', 'quality'])\n",
    "X_test_scaled = pd.DataFrame(scaler.transform(X_test), columns= ['fixed acidity','volatile acidity','citric acid','residual sugar', 'chlorides', 'free sulfur dioxide', 'total sulfur dioxide', 'density', 'pH', 'sulphates', 'alcohol', 'quality'])\n",
    "X_train_scaled.head()\n",
    "\n",
    "y_train = y_train.astype('category')\n",
    "y_test = y_test.astype('category')\n",
    "y_train.head()"
   ]
  },
  {
   "cell_type": "markdown",
   "metadata": {},
   "source": [
    "## Cross Validation: K-Nearest Neighbors Classifier:\n",
    "\n",
    "I decided to carry out stratified k-fold cross validation (with 10 folds) in order to find out the accuracy of K-Neighbors Classifier with 5 neighbors for the test scores data. The scoring method chosen is R^2. (default)"
   ]
  },
  {
   "cell_type": "code",
   "execution_count": 45,
   "metadata": {},
   "outputs": [
    {
     "name": "stdout",
     "output_type": "stream",
     "text": [
      "K-Neighbors Classification:\n",
      "Range of cross-validation scores: \n",
      "0.008196721311475419\n",
      "Mean of cross validation scores: \n",
      "0.9924079133778587\n"
     ]
    },
    {
     "data": {
      "text/plain": [
       "Text(0.5, 0, 'R^2')"
      ]
     },
     "execution_count": 45,
     "metadata": {},
     "output_type": "execute_result"
    },
    {
     "data": {
      "image/png": "[encoded data removed]",
      "text/plain": [
       "<Figure size 432x288 with 1 Axes>"
      ]
     },
     "metadata": {},
     "output_type": "display_data"
    }
   ],
   "source": [
    "from sklearn.neighbors import KNeighborsClassifier\n",
    "from sklearn.model_selection import cross_val_score\n",
    "from sklearn.model_selection import RepeatedKFold\n",
    "from sklearn.model_selection import KFold\n",
    "from sklearn.model_selection import StratifiedKFold\n",
    "\n",
    "skf = StratifiedKFold(n_splits=10)\n",
    "\n",
    "skf_scores_knn = cross_val_score(KNeighborsClassifier(n_neighbors=5), X_train_scaled, y_train, cv=skf)\n",
    "print(\"K-Neighbors Classification:\")\n",
    "print(\"Range of cross-validation scores: \\n{}\".format(max(skf_scores_knn) - min(skf_scores_knn)))\n",
    "print(\"Mean of cross validation scores: \\n{}\".format(np.mean(skf_scores_knn)))\n",
    "plt.hist(skf_scores_knn, ec='black', bins=10)\n",
    "plt.title(\"Distribution of Stratified K-fold cross validation scores: KNeighbors Classification\", fontsize=15)\n",
    "plt.xlabel(\"R^2\", fontsize=12)"
   ]
  },
  {
   "cell_type": "markdown",
   "metadata": {},
   "source": [
    "## Cross Validation: Logistic Regression:\n",
    "\n",
    "I decided to carry out stratified k-fold cross validation (with 10 folds) in order to find out the accuracy of Logistic Regression for the test scores data. The scoring method chosen is R^2. (default)\n",
    "(Setting C to a high value in order to mimic unpenalized regression)"
   ]
  },
  {
   "cell_type": "code",
   "execution_count": 46,
   "metadata": {
    "scrolled": true
   },
   "outputs": [
    {
     "name": "stdout",
     "output_type": "stream",
     "text": [
      "Logistic Regression:\n",
      "Range of cross-validation scores: \n",
      "0.010245901639344246\n",
      "Mean of cross validation scores: \n",
      "0.9934325035417932\n"
     ]
    },
    {
     "data": {
      "text/plain": [
       "Text(0.5, 0, 'R^2')"
      ]
     },
     "execution_count": 46,
     "metadata": {},
     "output_type": "execute_result"
    },
    {
     "data": {
      "image/png": "[encoded data removed]",
      "text/plain": [
       "<Figure size 432x288 with 1 Axes>"
      ]
     },
     "metadata": {},
     "output_type": "display_data"
    }
   ],
   "source": [
    "from sklearn.linear_model import LogisticRegression\n",
    "\n",
    "skf_scores_logreg = cross_val_score(LogisticRegression(C=1e90), X_train_scaled, y_train, cv=skf)\n",
    "print(\"Logistic Regression:\")\n",
    "print(\"Range of cross-validation scores: \\n{}\".format(max(skf_scores_logreg) - min(skf_scores_logreg)))\n",
    "print(\"Mean of cross validation scores: \\n{}\".format(np.mean(skf_scores_logreg)))\n",
    "plt.hist(skf_scores_logreg, ec='black', bins=10)\n",
    "plt.title(\"Distribution of Stratified K-fold cross validation scores: Logistic Regression\", fontsize=15)\n",
    "plt.xlabel(\"R^2\", fontsize=12)"
   ]
  },
  {
   "cell_type": "markdown",
   "metadata": {},
   "source": [
    "## Cross Validation: Logistic Regression (with L2 penalization):\n",
    "\n",
    "I decided to carry out stratified k-fold cross validation (with 10 folds) in order to find out the accuracy of Logistic Regression with the lgbfs solver and L2 penalization for the test scores data. I chose these methods because the best solver - 'saga' with an l1 penalty does not converge on this data. The scoring method chosen is R^2. (default) "
   ]
  },
  {
   "cell_type": "code",
   "execution_count": 47,
   "metadata": {
    "scrolled": true
   },
   "outputs": [
    {
     "name": "stdout",
     "output_type": "stream",
     "text": [
      "Logistic Regression (Penalized):\n",
      "Range of cross-validation scores: \n",
      "0.010237468798488747\n",
      "Mean of cross validation scores: \n",
      "0.9924070700937733\n"
     ]
    },
    {
     "data": {
      "text/plain": [
       "Text(0.5, 0, 'R^2')"
      ]
     },
     "execution_count": 47,
     "metadata": {},
     "output_type": "execute_result"
    },
    {
     "data": {
      "image/png": "[encoded data removed]",
      "text/plain": [
       "<Figure size 432x288 with 1 Axes>"
      ]
     },
     "metadata": {},
     "output_type": "display_data"
    }
   ],
   "source": [
    "# Solver: lbfgs; Multinomial + L2 penalty\n",
    "\n",
    "from sklearn.linear_model import LogisticRegression\n",
    "\n",
    "skf_scores_logreg = cross_val_score(LogisticRegression(solver = 'lbfgs', penalty='l2'), X_train_scaled, y_train, cv=skf)\n",
    "print(\"Logistic Regression (Penalized):\")\n",
    "print(\"Range of cross-validation scores: \\n{}\".format(max(skf_scores_logreg) - min(skf_scores_logreg)))\n",
    "print(\"Mean of cross validation scores: \\n{}\".format(np.mean(skf_scores_logreg)))\n",
    "plt.hist(skf_scores_logreg, ec='black', bins=10)\n",
    "plt.title(\"Distribution of Stratified K-fold cross validation scores: Logistic Regression (Penalized)\", fontsize=15)\n",
    "plt.xlabel(\"R^2\", fontsize=12)"
   ]
  },
  {
   "cell_type": "markdown",
   "metadata": {},
   "source": [
    "The three cross-validation mean scores and score ranges are very similar to each other. The KNN Classifier mode displays the highest mean cross validation score. I decided to scale the variables because not scaling them resulted in less test accuracy."
   ]
  },
  {
   "cell_type": "markdown",
   "metadata": {},
   "source": [
    "### 2.3 Tune the parameters where possible using GridSearchCV. Do the results improve?"
   ]
  },
  {
   "cell_type": "markdown",
   "metadata": {},
   "source": [
    "### GridSearch CV: Finding the best n_neighbors for K-Nearest Neighbors Classification"
   ]
  },
  {
   "cell_type": "markdown",
   "metadata": {},
   "source": [
    "Test set score before parameter tuning is 0.992 and it increases to 0.9926, showing marginal improvement, because our guess of n_neighbors = 5 was close to the optimal n_neighbors = 6. \n"
   ]
  },
  {
   "cell_type": "code",
   "execution_count": 48,
   "metadata": {},
   "outputs": [
    {
     "name": "stdout",
     "output_type": "stream",
     "text": [
      "Test set score: 0.995076923\n"
     ]
    }
   ],
   "source": [
    "knn = KNeighborsClassifier(n_neighbors=5).fit(X_train_scaled, y_train)\n",
    "print(\"Test set score: {:.9f}\".format(knn.score(X_test_scaled, y_test)))"
   ]
  },
  {
   "cell_type": "code",
   "execution_count": 49,
   "metadata": {},
   "outputs": [
    {
     "name": "stdout",
     "output_type": "stream",
     "text": [
      "GridSearchCV - K-Nearest-Neighbors Classification:\n",
      "Best mean cross-validation score: 0.993\n",
      "Best parameters: {'n_neighbors': 6}\n",
      "Training-set score: 0.994252874\n",
      "Test-set score: 0.995692308\n"
     ]
    }
   ],
   "source": [
    "from sklearn.model_selection import GridSearchCV\n",
    "import numpy as np\n",
    "\n",
    "\n",
    "#create dictionary data object with keys equal to parameter name 'n_neighbors' \n",
    "#for knn model and values equal to range of k values to create models for\n",
    "\n",
    "param_grid = {'n_neighbors': np.arange(1, 15, 1)} #np.arange creates sequence of numbers for each k value\n",
    "\n",
    "grid = GridSearchCV(KNeighborsClassifier(), param_grid=param_grid, cv=10)\n",
    "\n",
    "#use meta model methods to fit score and predict model:\n",
    "grid.fit(X_train_scaled, y_train)\n",
    "\n",
    "print(\"GridSearchCV - K-Nearest-Neighbors Classification:\")\n",
    "#extract best score and parameter by calling objects \"best_score_\" and \"best_params_\"\n",
    "print(\"Best mean cross-validation score: {:.3f}\".format(grid.best_score_))\n",
    "print(\"Best parameters: {}\".format(grid.best_params_))\n",
    "print(\"Training-set score: {:.9f}\".format(grid.score(X_train_scaled, y_train)))\n",
    "print(\"Test-set score: {:.9f}\".format(grid.score(X_test_scaled, y_test)))\n"
   ]
  },
  {
   "cell_type": "markdown",
   "metadata": {},
   "source": [
    "\n",
    "### GridSearch CV: Finding the best C for Logistic Regression (penalized)\n",
    "\n",
    "For penalized Logistic Regression there is not much of an improvement in accuracy since the optimal C is already close to 1, which is the default value."
   ]
  },
  {
   "cell_type": "code",
   "execution_count": 50,
   "metadata": {},
   "outputs": [
    {
     "name": "stdout",
     "output_type": "stream",
     "text": [
      "Test set score: 0.995692308\n"
     ]
    }
   ],
   "source": [
    "logregp = LogisticRegression(solver='lbfgs', penalty='l2').fit(X_train_scaled, y_train)\n",
    "print(\"Test set score: {:.9f}\".format(logregp.score(X_test_scaled, y_test)))"
   ]
  },
  {
   "cell_type": "code",
   "execution_count": 51,
   "metadata": {},
   "outputs": [
    {
     "name": "stdout",
     "output_type": "stream",
     "text": [
      "GridSearchCV - Logistic Regression (Penalized):\n",
      "Best mean cross-validation score: 0.992\n",
      "Best parameters: {'C': 0.8}\n",
      "Test-set score: 0.995692308\n"
     ]
    }
   ],
   "source": [
    "param_grid = {'C': np.arange(0.1, 0.9, 0.1)} #np.arange creates sequence of numbers for each k value\n",
    "\n",
    "grid = GridSearchCV(LogisticRegression(solver = 'lbfgs', penalty='l2'), param_grid=param_grid, cv=10)\n",
    "\n",
    "#use meta model methods to fit score and predict model:\n",
    "grid.fit(X_train_scaled, y_train)\n",
    "\n",
    "print(\"GridSearchCV - Logistic Regression (Penalized):\")\n",
    "#extract best score and parameter by calling objects \"best_score_\" and \"best_params_\"\n",
    "print(\"Best mean cross-validation score: {:.3f}\".format(grid.best_score_))\n",
    "print(\"Best parameters: {}\".format(grid.best_params_))\n",
    "print(\"Test-set score: {:.9f}\".format(grid.score(X_test_scaled, y_test)))\n",
    "\n"
   ]
  },
  {
   "cell_type": "markdown",
   "metadata": {},
   "source": [
    "### Logistic Regression\n",
    "\n",
    "Finally, Logistic Regression has no parameters to tune. Here is the test score for Logistic Regresssion, which produces greater test set accuracy than penalized Logistic Regression."
   ]
  },
  {
   "cell_type": "code",
   "execution_count": 52,
   "metadata": {
    "scrolled": true
   },
   "outputs": [
    {
     "name": "stdout",
     "output_type": "stream",
     "text": [
      "Test set score: 0.996923077\n"
     ]
    }
   ],
   "source": [
    "logreg = LogisticRegression(C=1e90).fit(X_train_scaled, y_train)\n",
    "print(\"Test set score: {:.9f}\".format(logreg.score(X_test_scaled, y_test)))"
   ]
  },
  {
   "cell_type": "markdown",
   "metadata": {},
   "source": [
    "### 2.4 Change the cross-validation strategy in GridSearchCV from ‘stratified k-fold’ to ‘kfold’ with shuffling. Do the parameters for models that can be tuned change? Do they change if you change the random seed of the shuffling? Or if you change the random state of the split into training and test data?"
   ]
  },
  {
   "cell_type": "markdown",
   "metadata": {},
   "source": [
    "## GridSearchCV (kfold with shuffle and random_state for train_test_split): K-Nearest Neighbors Regression\n",
    "\n",
    "Using GridSearch with K-Fold shuffle, I decided to iterate over three random states to find out the different values. It is clear that stratified k-fold (which is the default for GridSearchCV on classifier models) and k-fold with shuffle at different seeds, produces different values and is hence unreliable for this dataset."
   ]
  },
  {
   "cell_type": "code",
   "execution_count": 53,
   "metadata": {},
   "outputs": [
    {
     "name": "stdout",
     "output_type": "stream",
     "text": [
      "FOR VALUE 6\n",
      ":\n",
      "GridSearchCV - K-Nearest-Neighbors Classification:\n",
      "Best mean cross-validation score: 0.992\n",
      "Best parameters: {'n_neighbors': 4}\n",
      "Test-set score: 0.996307692\n",
      "FOR VALUE 123\n",
      ":\n",
      "GridSearchCV - K-Nearest-Neighbors Classification:\n",
      "Best mean cross-validation score: 0.993\n",
      "Best parameters: {'n_neighbors': 1}\n",
      "Test-set score: 0.996307692\n",
      "FOR VALUE 89\n",
      ":\n",
      "GridSearchCV - K-Nearest-Neighbors Classification:\n",
      "Best mean cross-validation score: 0.993\n",
      "Best parameters: {'n_neighbors': 6}\n",
      "Test-set score: 0.995692308\n"
     ]
    }
   ],
   "source": [
    "param_grid = {'n_neighbors': np.arange(1, 15, 1)} \n",
    "\n",
    "for k in (6, 123, 89):\n",
    "    print(\"FOR VALUE {}\\n:\".format(k))\n",
    "    kf = KFold(n_splits=10, shuffle = True, random_state = k)\n",
    "    grid = GridSearchCV(KNeighborsClassifier(), param_grid=param_grid, cv=kf)\n",
    "    grid.fit(X_train_scaled, y_train)\n",
    "    print(\"GridSearchCV - K-Nearest-Neighbors Classification:\")\n",
    "    #extract best score and parameter by calling objects \"best_score_\" and \"best_params_\"\n",
    "    print(\"Best mean cross-validation score: {:.3f}\".format(grid.best_score_))\n",
    "    print(\"Best parameters: {}\".format(grid.best_params_))\n",
    "    print(\"Test-set score: {:.9f}\".format(grid.score(X_test_scaled, y_test)))\n",
    "    "
   ]
  },
  {
   "cell_type": "markdown",
   "metadata": {},
   "source": [
    "Next, I tried to change the random seed of the train_test_split to see if it would make a difference to the optimal parameter:"
   ]
  },
  {
   "cell_type": "code",
   "execution_count": 54,
   "metadata": {
    "scrolled": true
   },
   "outputs": [
    {
     "data": {
      "text/plain": [
       "2766    0.0\n",
       "1575    1.0\n",
       "475     1.0\n",
       "4467    0.0\n",
       "2585    0.0\n",
       "Name: winetype, dtype: category\n",
       "Categories (2, float64): [0.0, 1.0]"
      ]
     },
     "execution_count": 54,
     "metadata": {},
     "output_type": "execute_result"
    }
   ],
   "source": [
    "X_train1, X_test1, y_train1, y_test1 = train_test_split(X, y, random_state = 789)\n",
    "scaler = preprocessing.StandardScaler().fit(X_train1)\n",
    "X_train1_scaled = pd.DataFrame(preprocessing.scale(X_train1), columns=['fixed acidity','volatile acidity','citric acid','residual sugar', 'chlorides', 'free sulfur dioxide', 'total sulfur dioxide', 'density', 'pH', 'sulphates', 'alcohol', 'quality'])\n",
    "X_test1_scaled = pd.DataFrame(scaler.transform(X_test1), columns= ['fixed acidity','volatile acidity','citric acid','residual sugar', 'chlorides', 'free sulfur dioxide', 'total sulfur dioxide', 'density', 'pH', 'sulphates', 'alcohol', 'quality'])\n",
    "X_train1_scaled.head()\n",
    "\n",
    "y_train1 = y_train1.astype('category')\n",
    "y_test1 = y_test1.astype('category')\n",
    "y_train1.head()"
   ]
  },
  {
   "cell_type": "code",
   "execution_count": 55,
   "metadata": {},
   "outputs": [
    {
     "name": "stdout",
     "output_type": "stream",
     "text": [
      "GridSearchCV - K-Nearest-Neighbors Classification:\n",
      "Best mean cross-validation score: 0.994\n",
      "Best parameters: {'n_neighbors': 1}\n",
      "Training-set score: 0.999589491\n",
      "Test-set score: 0.994461538\n"
     ]
    }
   ],
   "source": [
    "grid = GridSearchCV(KNeighborsClassifier(), param_grid=param_grid, cv=10)\n",
    "\n",
    "#use meta model methods to fit score and predict model:\n",
    "grid.fit(X_train1_scaled, y_train1)\n",
    "\n",
    "print(\"GridSearchCV - K-Nearest-Neighbors Classification:\")\n",
    "#extract best score and parameter by calling objects \"best_score_\" and \"best_params_\"\n",
    "print(\"Best mean cross-validation score: {:.3f}\".format(grid.best_score_))\n",
    "print(\"Best parameters: {}\".format(grid.best_params_))\n",
    "print(\"Training-set score: {:.9f}\".format(grid.score(X_train1_scaled, y_train1)))\n",
    "print(\"Test-set score: {:.9f}\".format(grid.score(X_test1_scaled, y_test1)))"
   ]
  },
  {
   "cell_type": "markdown",
   "metadata": {},
   "source": [
    "## GridSearchCV (kfold with shuffle and random_state for train_test_split): Penalized Logistic Regression\n",
    "\n",
    "Using GridSearch with K-Fold shuffle, I decided to iterate over three random states to find out the different values. It in interesting that  stratified k-fold (which is the default for GridSearchCV on classifier models) and k-fold with shuffle at different seeds changes the values of the C parameter showing that the Penalized regression is sensitive to the cross-validation shuffling, like KNN. The optimal parameter also changes when a different random seed is chosed for the train_test_split. "
   ]
  },
  {
   "cell_type": "code",
   "execution_count": 56,
   "metadata": {},
   "outputs": [
    {
     "name": "stdout",
     "output_type": "stream",
     "text": [
      "FOR VALUE 6\n",
      ":\n",
      "GridSearchCV - Penalized Logistic Regression:\n",
      "Best mean cross-validation score: 0.992\n",
      "Best parameters: {'C': 0.4}\n",
      "Test-set score: 0.995692308\n",
      "FOR VALUE 123\n",
      ":\n",
      "GridSearchCV - Penalized Logistic Regression:\n",
      "Best mean cross-validation score: 0.992\n",
      "Best parameters: {'C': 0.7000000000000001}\n",
      "Test-set score: 0.995692308\n",
      "FOR VALUE 89\n",
      ":\n",
      "GridSearchCV - Penalized Logistic Regression:\n",
      "Best mean cross-validation score: 0.992\n",
      "Best parameters: {'C': 0.9}\n",
      "Test-set score: 0.995692308\n"
     ]
    }
   ],
   "source": [
    "param_grid = {'C': np.arange(0.1, 1, 0.1)} \n",
    "\n",
    "for k in (6, 123, 89):\n",
    "    print(\"FOR VALUE {}\\n:\".format(k))\n",
    "    kf = KFold(n_splits=10, shuffle = True, random_state = k)\n",
    "    grid = GridSearchCV(LogisticRegression(solver='lbfgs', penalty='l2'), param_grid=param_grid, cv=kf)\n",
    "    grid.fit(X_train_scaled, y_train)\n",
    "    print(\"GridSearchCV - Penalized Logistic Regression:\")\n",
    "    #extract best score and parameter by calling objects \"best_score_\" and \"best_params_\"\n",
    "    print(\"Best mean cross-validation score: {:.3f}\".format(grid.best_score_))\n",
    "    print(\"Best parameters: {}\".format(grid.best_params_))\n",
    "    print(\"Test-set score: {:.9f}\".format(grid.score(X_test_scaled, y_test)))\n",
    "    "
   ]
  },
  {
   "cell_type": "code",
   "execution_count": 57,
   "metadata": {},
   "outputs": [
    {
     "name": "stdout",
     "output_type": "stream",
     "text": [
      "GridSearchCV - Penalized Logistic Regression:\n",
      "Best mean cross-validation score: 0.993\n",
      "Best parameters: {'C': 0.9}\n",
      "Training-set score: 0.993637110\n",
      "Test-set score: 0.995076923\n"
     ]
    }
   ],
   "source": [
    "grid = GridSearchCV(LogisticRegression(solver='lbfgs', penalty='l2'), param_grid=param_grid, cv=10)\n",
    "\n",
    "#use meta model methods to fit score and predict model:\n",
    "grid.fit(X_train1_scaled, y_train1)\n",
    "\n",
    "print(\"GridSearchCV - Penalized Logistic Regression:\")\n",
    "#extract best score and parameter by calling objects \"best_score_\" and \"best_params_\"\n",
    "print(\"Best mean cross-validation score: {:.3f}\".format(grid.best_score_))\n",
    "print(\"Best parameters: {}\".format(grid.best_params_))\n",
    "print(\"Training-set score: {:.9f}\".format(grid.score(X_train1_scaled, y_train1)))\n",
    "print(\"Test-set score: {:.9f}\".format(grid.score(X_test1_scaled, y_test1)))"
   ]
  },
  {
   "cell_type": "markdown",
   "metadata": {},
   "source": [
    "### 2.5 Lastly, compare the coefficients for Logistic Regression and Penalized Logistic Regression and discuss which final model you would choose to predict new data.\n"
   ]
  },
  {
   "cell_type": "markdown",
   "metadata": {},
   "source": [
    "Both tests display similar coefficients, though logistic regression has the added advantage of simplicity and the ability to test for the significance of each individual variable. \n",
    "Volatile acidity, Residual Sugar, Chlorides, Free Sulfur Dioxide, Total Sulfur Dioxide, Density, and Alcohol\n",
    "Mare statistically significant predictors at a 99% confidence interval. However, Fixed acidity and volatile acidity may be highly correlated. Hence, a composite factor for both can be included.\n",
    "I choose Logistic Regression because it has greater model interpretability. Moreover, the test and train accuracy for logistic regression is higher than penalized logistic regression."
   ]
  },
  {
   "cell_type": "code",
   "execution_count": 58,
   "metadata": {},
   "outputs": [
    {
     "data": {
      "text/html": [
       "<table class=\"simpletable\">\n",
       "<caption>Generalized Linear Model Regression Results</caption>\n",
       "<tr>\n",
       "  <th>Dep. Variable:</th>          <td>y</td>        <th>  No. Observations:  </th>  <td>  4872</td>  \n",
       "</tr>\n",
       "<tr>\n",
       "  <th>Model:</th>                 <td>GLM</td>       <th>  Df Residuals:      </th>  <td>  4859</td>  \n",
       "</tr>\n",
       "<tr>\n",
       "  <th>Model Family:</th>       <td>Binomial</td>     <th>  Df Model:          </th>  <td>    12</td>  \n",
       "</tr>\n",
       "<tr>\n",
       "  <th>Link Function:</th>        <td>logit</td>      <th>  Scale:             </th> <td>  1.0000</td> \n",
       "</tr>\n",
       "<tr>\n",
       "  <th>Method:</th>               <td>IRLS</td>       <th>  Log-Likelihood:    </th> <td> -183.79</td> \n",
       "</tr>\n",
       "<tr>\n",
       "  <th>Date:</th>           <td>Thu, 11 Oct 2018</td> <th>  Deviance:          </th> <td>  367.57</td> \n",
       "</tr>\n",
       "<tr>\n",
       "  <th>Time:</th>               <td>09:32:34</td>     <th>  Pearson chi2:      </th> <td>8.49e+07</td> \n",
       "</tr>\n",
       "<tr>\n",
       "  <th>No. Iterations:</th>        <td>11</td>        <th>  Covariance Type:   </th> <td>nonrobust</td>\n",
       "</tr>\n",
       "</table>\n",
       "<table class=\"simpletable\">\n",
       "<tr>\n",
       "            <td></td>              <th>coef</th>     <th>std err</th>      <th>z</th>      <th>P>|z|</th>  <th>[0.025</th>    <th>0.975]</th>  \n",
       "</tr>\n",
       "<tr>\n",
       "  <th>const</th>                <td>   -3.8710</td> <td>    0.295</td> <td>  -13.131</td> <td> 0.000</td> <td>   -4.449</td> <td>   -3.293</td>\n",
       "</tr>\n",
       "<tr>\n",
       "  <th>fixed acidity</th>        <td>   -0.1803</td> <td>    0.326</td> <td>   -0.554</td> <td> 0.580</td> <td>   -0.818</td> <td>    0.458</td>\n",
       "</tr>\n",
       "<tr>\n",
       "  <th>volatile acidity</th>     <td>    1.1580</td> <td>    0.193</td> <td>    6.012</td> <td> 0.000</td> <td>    0.780</td> <td>    1.536</td>\n",
       "</tr>\n",
       "<tr>\n",
       "  <th>citric acid</th>          <td>   -0.3426</td> <td>    0.191</td> <td>   -1.795</td> <td> 0.073</td> <td>   -0.717</td> <td>    0.031</td>\n",
       "</tr>\n",
       "<tr>\n",
       "  <th>residual sugar</th>       <td>   -4.0145</td> <td>    0.488</td> <td>   -8.225</td> <td> 0.000</td> <td>   -4.971</td> <td>   -3.058</td>\n",
       "</tr>\n",
       "<tr>\n",
       "  <th>chlorides</th>            <td>    0.8503</td> <td>    0.159</td> <td>    5.352</td> <td> 0.000</td> <td>    0.539</td> <td>    1.162</td>\n",
       "</tr>\n",
       "<tr>\n",
       "  <th>free sulfur dioxide</th>  <td>    0.7529</td> <td>    0.288</td> <td>    2.610</td> <td> 0.009</td> <td>    0.188</td> <td>    1.318</td>\n",
       "</tr>\n",
       "<tr>\n",
       "  <th>total sulfur dioxide</th> <td>   -2.6935</td> <td>    0.292</td> <td>   -9.224</td> <td> 0.000</td> <td>   -3.266</td> <td>   -2.121</td>\n",
       "</tr>\n",
       "<tr>\n",
       "  <th>density</th>              <td>    4.7390</td> <td>    0.587</td> <td>    8.075</td> <td> 0.000</td> <td>    3.589</td> <td>    5.889</td>\n",
       "</tr>\n",
       "<tr>\n",
       "  <th>pH</th>                   <td>   -0.0158</td> <td>    0.248</td> <td>   -0.064</td> <td> 0.949</td> <td>   -0.502</td> <td>    0.470</td>\n",
       "</tr>\n",
       "<tr>\n",
       "  <th>sulphates</th>            <td>    0.4588</td> <td>    0.208</td> <td>    2.210</td> <td> 0.027</td> <td>    0.052</td> <td>    0.866</td>\n",
       "</tr>\n",
       "<tr>\n",
       "  <th>alcohol</th>              <td>    1.7099</td> <td>    0.340</td> <td>    5.027</td> <td> 0.000</td> <td>    1.043</td> <td>    2.377</td>\n",
       "</tr>\n",
       "<tr>\n",
       "  <th>quality</th>              <td>    0.4742</td> <td>    0.192</td> <td>    2.468</td> <td> 0.014</td> <td>    0.098</td> <td>    0.851</td>\n",
       "</tr>\n",
       "</table>"
      ],
      "text/plain": [
       "<class 'statsmodels.iolib.summary.Summary'>\n",
       "\"\"\"\n",
       "                 Generalized Linear Model Regression Results                  \n",
       "==============================================================================\n",
       "Dep. Variable:                      y   No. Observations:                 4872\n",
       "Model:                            GLM   Df Residuals:                     4859\n",
       "Model Family:                Binomial   Df Model:                           12\n",
       "Link Function:                  logit   Scale:                          1.0000\n",
       "Method:                          IRLS   Log-Likelihood:                -183.79\n",
       "Date:                Thu, 11 Oct 2018   Deviance:                       367.57\n",
       "Time:                        09:32:34   Pearson chi2:                 8.49e+07\n",
       "No. Iterations:                    11   Covariance Type:             nonrobust\n",
       "========================================================================================\n",
       "                           coef    std err          z      P>|z|      [0.025      0.975]\n",
       "----------------------------------------------------------------------------------------\n",
       "const                   -3.8710      0.295    -13.131      0.000      -4.449      -3.293\n",
       "fixed acidity           -0.1803      0.326     -0.554      0.580      -0.818       0.458\n",
       "volatile acidity         1.1580      0.193      6.012      0.000       0.780       1.536\n",
       "citric acid             -0.3426      0.191     -1.795      0.073      -0.717       0.031\n",
       "residual sugar          -4.0145      0.488     -8.225      0.000      -4.971      -3.058\n",
       "chlorides                0.8503      0.159      5.352      0.000       0.539       1.162\n",
       "free sulfur dioxide      0.7529      0.288      2.610      0.009       0.188       1.318\n",
       "total sulfur dioxide    -2.6935      0.292     -9.224      0.000      -3.266      -2.121\n",
       "density                  4.7390      0.587      8.075      0.000       3.589       5.889\n",
       "pH                      -0.0158      0.248     -0.064      0.949      -0.502       0.470\n",
       "sulphates                0.4588      0.208      2.210      0.027       0.052       0.866\n",
       "alcohol                  1.7099      0.340      5.027      0.000       1.043       2.377\n",
       "quality                  0.4742      0.192      2.468      0.014       0.098       0.851\n",
       "========================================================================================\n",
       "\"\"\""
      ]
     },
     "execution_count": 58,
     "metadata": {},
     "output_type": "execute_result"
    }
   ],
   "source": [
    "import statsmodels.api as sm\n",
    "\n",
    "X_train_new = sm.add_constant(X_train_scaled)\n",
    "y_train = list(y_train)\n",
    "\n",
    "model = sm.GLM(y_train, X_train_new, family=sm.families.Binomial()).fit()\n",
    "\n",
    "model.summary()"
   ]
  },
  {
   "cell_type": "code",
   "execution_count": 59,
   "metadata": {},
   "outputs": [
    {
     "name": "stdout",
     "output_type": "stream",
     "text": [
      "Coefficients:\n",
      "\n",
      "fixed acidity  :  0.487903380433066\n",
      "volatile acidity  :  1.2590493841457362\n",
      "citric acid  :  -0.3075331376775412\n",
      "residual sugar  :  -2.5502776367046534\n",
      "chlorides  :  0.9225416957200209\n",
      "free sulfur dioxide  :  0.3961594428991161\n",
      "total sulfur dioxide  :  -2.4493491295271568\n",
      "density  :  2.9234134636805043\n",
      "pH  :  0.4880078208297348\n",
      "sulphates  :  0.662677870023479\n",
      "alcohol  :  0.8797657462147017\n",
      "quality  :  0.38272435676752503\n",
      "\n",
      "\n",
      "Training set score: 0.994\n",
      "Test set score: 0.997\n"
     ]
    },
    {
     "data": {
      "image/png": "[encoded data removed]",
      "text/plain": [
       "<Figure size 432x288 with 1 Axes>"
      ]
     },
     "metadata": {},
     "output_type": "display_data"
    }
   ],
   "source": [
    "logregp = LogisticRegression(C=0.6, solver = 'lbfgs', penalty='l2').fit(X_train_scaled, y_train)\n",
    "print(\"Coefficients:\\n\")\n",
    "cols =['fixed acidity','volatile acidity','citric acid','residual sugar', 'chlorides', 'free sulfur dioxide', 'total sulfur dioxide', 'density', 'pH', 'sulphates', 'alcohol', 'quality']\n",
    "coefs = logregp.coef_.ravel()\n",
    "for k in range(0, len(cols)):\n",
    "    print(cols[k], \" : \", coefs[k])\n",
    "plt.bar(cols, coefs)\n",
    "plt.xticks(rotation=90)\n",
    "print(\"\\n\")\n",
    "print(\"Training set score: {:.3f}\".format(logreg.score(X_train_scaled, y_train)))\n",
    "print(\"Test set score: {:.3f}\".format(logreg.score(X_test_scaled, y_test)))\n",
    "\n"
   ]
  },
  {
   "cell_type": "code",
   "execution_count": 1,
   "metadata": {},
   "outputs": [
    {
     "ename": "NameError",
     "evalue": "name 'np' is not defined",
     "output_type": "error",
     "traceback": [
      "\u001b[0;31m---------------------------------------------------------------------------\u001b[0m",
      "\u001b[0;31mNameError\u001b[0m                                 Traceback (most recent call last)",
      "\u001b[0;32m<ipython-input-1-63ee7dc18b43>\u001b[0m in \u001b[0;36m<module>\u001b[0;34m()\u001b[0m\n\u001b[0;32m----> 1\u001b[0;31m \u001b[0mnp\u001b[0m\u001b[0;34m.\u001b[0m\u001b[0mcorrcoef\u001b[0m\u001b[0;34m(\u001b[0m\u001b[0mwine\u001b[0m\u001b[0;34m[\u001b[0m\u001b[0;34m'fixed acidity'\u001b[0m\u001b[0;34m]\u001b[0m\u001b[0;34m,\u001b[0m \u001b[0mwine\u001b[0m\u001b[0;34m[\u001b[0m\u001b[0;34m'volatile acidity'\u001b[0m\u001b[0;34m]\u001b[0m\u001b[0;34m)\u001b[0m\u001b[0;34m\u001b[0m\u001b[0m\n\u001b[0m",
      "\u001b[0;31mNameError\u001b[0m: name 'np' is not defined"
     ]
    }
   ],
   "source": [
    "np.corrcoef(wine['fixed acidity'], wine['volatile acidity'])"
   ]
  },
  {
   "cell_type": "code",
   "execution_count": 16,
   "metadata": {},
   "outputs": [
    {
     "data": {
      "text/plain": [
       "<Figure size 432x288 with 0 Axes>"
      ]
     },
     "metadata": {},
     "output_type": "display_data"
    },
    {
     "data": {
      "image/png": "[encoded data removed]",
      "text/plain": [
       "<Figure size 432x288 with 1 Axes>"
      ]
     },
     "metadata": {},
     "output_type": "display_data"
    }
   ],
   "source": [
    "plt.figure()\n",
    "X= np.array([1,2,3,4,5,6,7,8])\n",
    "Y = X\n",
    "plt.figure()\n",
    "plt.scatter(X[5:], Y[5:], s = 100)\n",
    "plt.show()"
   ]
  },
  {
   "cell_type": "code",
   "execution_count": null,
   "metadata": {},
   "outputs": [],
   "source": []
  }
 ],
 "metadata": {
  "kernelspec": {
   "display_name": "Python 3",
   "language": "python",
   "name": "python3"
  },
  "language_info": {
   "codemirror_mode": {
    "name": "ipython",
    "version": 3
   },
   "file_extension": ".py",
   "mimetype": "text/x-python",
   "name": "python",
   "nbconvert_exporter": "python",
   "pygments_lexer": "ipython3",
   "version": "3.6.5"
  }
 },
 "nbformat": 4,
 "nbformat_minor": 2
}
